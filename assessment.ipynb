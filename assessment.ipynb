{
 "cells": [
  {
   "cell_type": "markdown",
   "metadata": {},
   "source": [
    "IMPORT PACKAGES"
   ]
  },
  {
   "cell_type": "code",
   "execution_count": 10,
   "metadata": {},
   "outputs": [],
   "source": [
    "import requests\n",
    "import pandas as pd"
   ]
  },
  {
   "cell_type": "markdown",
   "metadata": {},
   "source": [
    "PULL DATA FROM SOCRATA API"
   ]
  },
  {
   "cell_type": "code",
   "execution_count": 2,
   "metadata": {},
   "outputs": [
    {
     "name": "stdout",
     "output_type": "stream",
     "text": [
      "loading in data...\n",
      "COMPLETE!\n",
      "#rows in dataframe: 2461158\n"
     ]
    }
   ],
   "source": [
    "offset = 0\n",
    "LIMIT = 1000000 #max rows which can be pulled from the api with a single call\n",
    "arr_of_df = [] #array which will hold multiple batches of data\n",
    "URL_CONSTANT = \"https://data.cityofnewyork.us/resource/fhrw-4uyv.json?$WHERE=created_date between '2017-01-01T00:00:00.000' and '2017-12-31T23:59:59.999' &$limit=\" + str({}) + \" &$offset=\" + str({})\n",
    "\n",
    "print(\"loading in data...\")\n",
    "\n",
    "#pull data from api in batches of 1000000 (limit) until theres no more rows to pull\n",
    "while True:\n",
    "    apiData = requests.get(URL_CONSTANT.format(LIMIT, offset)).json()\n",
    "    dfTemp = pd.DataFrame(data=apiData) #convert each batch of data into a dataframe so we can easily use the pandas concat method later\n",
    "    arr_of_df.append(dfTemp)\n",
    "    offset += LIMIT\n",
    "    if (len(apiData)-LIMIT) >= 0: #check if the max limit was pulled from the api\n",
    "        continue\n",
    "    else: #near end of dataset, no need to send another request\n",
    "        break\n",
    "        \n",
    "#concatenate all of the batches of data into one DataFrame\n",
    "df_cityData = pd.concat(arr_of_df)\n",
    "\n",
    "#confirm that all 2017 records are in the dataframe\n",
    "#df_cityData['created_date'].min() = '2017-01-01T00:00:00.000'\n",
    "#df_cityData['created_date'].max() = '2017-12-31T23:59:35.000'\n",
    "print(\"COMPLETE!\")\n",
    "print(\"#rows in dataframe: \" + str(len(df_cityData)))"
   ]
  },
  {
   "cell_type": "markdown",
   "metadata": {},
   "source": [
    "##Consider only the 10 most common overall complaint types. For each borough, how many of each of those 10 types were there in 2017?"
   ]
  },
  {
   "cell_type": "markdown",
   "metadata": {},
   "source": [
    "FILTER OUT THE TOP 10 COMPLAINT TYPES"
   ]
  },
  {
   "cell_type": "code",
   "execution_count": 12,
   "metadata": {},
   "outputs": [
    {
     "data": {
      "text/plain": [
       "Noise - Residential        230152\n",
       "HEAT/HOT WATER             213521\n",
       "Illegal Parking            146122\n",
       "Blocked Driveway           136097\n",
       "Street Condition            93265\n",
       "Street Light Condition      84195\n",
       "UNSANITARY CONDITION        79282\n",
       "Noise - Street/Sidewalk     73085\n",
       "Water System                65101\n",
       "Noise                       60171\n",
       "Name: complaint_type, dtype: int64"
      ]
     },
     "execution_count": 12,
     "metadata": {},
     "output_type": "execute_result"
    }
   ],
   "source": [
    "df_topTenComplaintTypes = df_cityData['complaint_type'].value_counts().head(10)\n",
    "df_topTenComplaintTypes"
   ]
  },
  {
   "cell_type": "markdown",
   "metadata": {},
   "source": [
    "FILTER THE CITY DATA FURTHER USING THE ABOVE RESULTS"
   ]
  },
  {
   "cell_type": "code",
   "execution_count": 14,
   "metadata": {
    "scrolled": true
   },
   "outputs": [
    {
     "data": {
      "text/plain": [
       "borough        complaint_type         \n",
       "BRONX          Blocked Driveway           24574\n",
       "               HEAT/HOT WATER             68718\n",
       "               Illegal Parking            16122\n",
       "               Noise                       3134\n",
       "               Noise - Residential        57663\n",
       "               Noise - Street/Sidewalk    14025\n",
       "               Street Condition           11761\n",
       "               Street Light Condition     18410\n",
       "               UNSANITARY CONDITION       24561\n",
       "               Water System               10221\n",
       "BROOKLYN       Blocked Driveway           49302\n",
       "               HEAT/HOT WATER             66984\n",
       "               Illegal Parking            55380\n",
       "               Noise                      15421\n",
       "               Noise - Residential        67629\n",
       "               Noise - Street/Sidewalk    21313\n",
       "               Street Condition           25432\n",
       "               Street Light Condition     22458\n",
       "               UNSANITARY CONDITION       26659\n",
       "               Water System               19809\n",
       "MANHATTAN      Blocked Driveway            3428\n",
       "               HEAT/HOT WATER             46529\n",
       "               Illegal Parking            19687\n",
       "               Noise                      29002\n",
       "               Noise - Residential        51026\n",
       "               Noise - Street/Sidewalk    29147\n",
       "               Street Condition           14840\n",
       "               Street Light Condition     11077\n",
       "               UNSANITARY CONDITION       14635\n",
       "               Water System               10930\n",
       "QUEENS         Blocked Driveway           54290\n",
       "               HEAT/HOT WATER             29217\n",
       "               Illegal Parking            46065\n",
       "               Noise                      10685\n",
       "               Noise - Residential        46396\n",
       "               Noise - Street/Sidewalk     7530\n",
       "               Street Condition           30629\n",
       "               Street Light Condition     24258\n",
       "               UNSANITARY CONDITION       11474\n",
       "               Water System               18792\n",
       "STATEN ISLAND  Blocked Driveway            3465\n",
       "               HEAT/HOT WATER              2073\n",
       "               Illegal Parking             7574\n",
       "               Noise                       1926\n",
       "               Noise - Residential         6744\n",
       "               Noise - Street/Sidewalk      853\n",
       "               Street Condition           10560\n",
       "               Street Light Condition      6604\n",
       "               UNSANITARY CONDITION        1953\n",
       "               Water System                5349\n",
       "Unspecified    Blocked Driveway            1038\n",
       "               Illegal Parking             1294\n",
       "               Noise                          3\n",
       "               Noise - Residential          694\n",
       "               Noise - Street/Sidewalk      217\n",
       "               Street Condition              43\n",
       "               Street Light Condition      1388\n",
       "Name: complaint_type, dtype: int64"
      ]
     },
     "execution_count": 14,
     "metadata": {},
     "output_type": "execute_result"
    }
   ],
   "source": [
    "#filter the records for which the complaint type matches one found in 'df_topTenComplaintTypes'\n",
    "df_TopTenData = df_cityData.loc[df_cityData['complaint_type'].isin(df_topTenComplaintTypes.index)]\n",
    "#filter the records to include only the 'borough' & 'complaint_type' (multiple for each borough), and the number of occurences for each complaint within that borough\n",
    "df_TopTenData[['borough','complaint_type']].groupby(['borough','complaint_type'])['complaint_type'].count()"
   ]
  },
  {
   "cell_type": "markdown",
   "metadata": {},
   "source": [
    "##Consider only the 10 most common overall complaint types.  For the 10 most populous zip codes, how many of each of those 10 types were there in 2017?"
   ]
  },
  {
   "cell_type": "markdown",
   "metadata": {},
   "source": [
    "READ IN THE NEW DATASET & MERGE THE POPULATION DATA WITH THE CITY DATA"
   ]
  },
  {
   "cell_type": "code",
   "execution_count": 24,
   "metadata": {},
   "outputs": [],
   "source": [
    "#read in the dataset containing the population data\n",
    "df_populationData = pd.read_csv('PopulationData.csv')"
   ]
  },
  {
   "cell_type": "code",
   "execution_count": 25,
   "metadata": {
    "scrolled": true
   },
   "outputs": [],
   "source": [
    "#merge the two dataframes\n",
    "df_populationData.columns = ['incident_zip','population'] #rename columns to match other df\n",
    "df_populationData['incident_zip'] = df_populationData['incident_zip'].apply(str)#change column type to string to handle 'NaN' in df_zipAndComplaintType\n",
    "df_zipAndComplaintType = df_cityData[['incident_zip','complaint_type']] #grab necessary data from df_cityData\n",
    "df_mergedData = pd.merge(df_populationData, df_zipAndComplaintType, on='incident_zip')"
   ]
  },
  {
   "cell_type": "markdown",
   "metadata": {},
   "source": [
    "APPLY FILTERING AND GRAB THE NECESSARY DATA"
   ]
  },
  {
   "cell_type": "code",
   "execution_count": 27,
   "metadata": {},
   "outputs": [
    {
     "name": "stdout",
     "output_type": "stream",
     "text": [
      "                                                     \n",
      "incident_zip population complaint_type               \n",
      "11368        109931     UNSANITARY CONDITION      639\n",
      "                        Street Light Condition    444\n",
      "                        Blocked Driveway         4384\n",
      "                        HEAT/HOT WATER           1620\n",
      "                        Illegal Parking          1251\n",
      "                        Noise                     158\n",
      "                        Noise - Residential      2460\n",
      "                        Street Condition          561\n",
      "                        Noise - Street/Sidewalk   684\n",
      "                        Water System              617\n",
      "11226        101572     Noise - Residential      4854\n",
      "                        Blocked Driveway         2203\n",
      "                        Water System              406\n",
      "                        Illegal Parking          1076\n",
      "                        Noise                     440\n",
      "                        HEAT/HOT WATER           7569\n",
      "                        Noise - Street/Sidewalk  1831\n",
      "                        Street Condition          491\n",
      "                        Street Light Condition    202\n",
      "                        UNSANITARY CONDITION     3155\n",
      "11373        100820     Illegal Parking          1277\n",
      "                        Noise                     270\n",
      "                        Noise - Residential      1842\n",
      "                        Noise - Street/Sidewalk   304\n",
      "                        Street Condition          691\n",
      "                        Street Light Condition    362\n",
      "                        UNSANITARY CONDITION      756\n",
      "                        Water System              372\n",
      "                        HEAT/HOT WATER           3408\n",
      "                        Blocked Driveway         2635\n",
      "11220        99598      Noise - Street/Sidewalk   498\n",
      "                        HEAT/HOT WATER           1634\n",
      "                        Illegal Parking          2013\n",
      "                        Noise                     442\n",
      "                        Noise - Residential      1522\n",
      "                        Water System              674\n",
      "                        UNSANITARY CONDITION      719\n",
      "                        Street Light Condition    610\n",
      "                        Street Condition          690\n",
      "                        Blocked Driveway         1558\n",
      "11385        98592      Noise - Street/Sidewalk   607\n",
      "                        UNSANITARY CONDITION      647\n",
      "                        Water System             1240\n",
      "                        Street Condition         1232\n",
      "                        HEAT/HOT WATER           1526\n",
      "                        Noise - Residential      2609\n",
      "                        Noise                     507\n",
      "                        Illegal Parking          4135\n",
      "                        Street Light Condition    791\n",
      "                        Blocked Driveway         3042\n",
      "10467        97060      Noise - Street/Sidewalk   713\n",
      "                        UNSANITARY CONDITION     2192\n",
      "                        Street Light Condition    407\n",
      "                        Street Condition          612\n",
      "                        Noise - Residential      5807\n",
      "                        Noise                     285\n",
      "                        Illegal Parking           986\n",
      "                        HEAT/HOT WATER           6041\n",
      "                        Blocked Driveway         2068\n",
      "                        Water System              560\n",
      "10025        94600      Noise                    1398\n",
      "                        HEAT/HOT WATER           2397\n",
      "                        Blocked Driveway          125\n",
      "                        Noise - Residential      2085\n",
      "                        Noise - Street/Sidewalk  1224\n",
      "                        Street Condition          628\n",
      "                        Street Light Condition     21\n",
      "                        UNSANITARY CONDITION      714\n",
      "                        Water System              481\n",
      "                        Illegal Parking           736\n",
      "11208        94469      HEAT/HOT WATER           2052\n",
      "                        Blocked Driveway         2756\n",
      "                        UNSANITARY CONDITION     1341\n",
      "                        Street Light Condition    566\n",
      "                        Street Condition          816\n",
      "                        Noise - Street/Sidewalk   825\n",
      "                        Noise - Residential      2795\n",
      "                        Noise                     188\n",
      "                        Illegal Parking          2150\n",
      "                        Water System              710\n",
      "11236        93877      Noise - Residential      1929\n",
      "                        UNSANITARY CONDITION      562\n",
      "                        Illegal Parking          1431\n",
      "                        Street Condition         1021\n",
      "                        Street Light Condition    180\n",
      "                        Water System              623\n",
      "                        HEAT/HOT WATER           1145\n",
      "                        Blocked Driveway         3041\n",
      "                        Noise                     108\n",
      "                        Noise - Street/Sidewalk   201\n",
      "11207        93386      Water System              757\n",
      "                        UNSANITARY CONDITION     1621\n",
      "                        Illegal Parking          1500\n",
      "                        Noise                     199\n",
      "                        HEAT/HOT WATER           2461\n",
      "                        Noise - Residential      3061\n",
      "                        Noise - Street/Sidewalk   558\n",
      "                        Street Condition         1142\n",
      "                        Street Light Condition    932\n",
      "                        Blocked Driveway         2062\n"
     ]
    }
   ],
   "source": [
    "df_overlappingZips = df_mergedData.loc[df_mergedData['incident_zip'].isin(df_cityData['incident_zip'])] #filter for overlapping zip codes\n",
    "df_overlappingZips = df_overlappingZips.loc[df_overlappingZips['complaint_type'].isin(df_topTenComplaintTypes.index)] #filter for top ten complaints\n",
    "df_overlappingZips = df_overlappingZips.groupby(['incident_zip','population','complaint_type'])['complaint_type'].count()\n",
    "df_overlappingZips = df_overlappingZips.to_frame('').sort_values(by='population', ascending=False).head(100) #sort and grab first 100 (10zips x 10complaints = 100rows)\n",
    "print(df_overlappingZips.to_string()) #print ALL data rows "
   ]
  },
  {
   "cell_type": "markdown",
   "metadata": {},
   "source": [
    "##Considering all complaint types. Which boroughs are the biggest \"complainers\" relative to the size of the population in 2017? Meaning, calculate a complaint-index that adjusts for population of the borough."
   ]
  },
  {
   "cell_type": "markdown",
   "metadata": {},
   "source": [
    "GRAB THE TOTAL # OF COMPLAINTS FOR EACH BOROUGH"
   ]
  },
  {
   "cell_type": "code",
   "execution_count": 28,
   "metadata": {
    "scrolled": true
   },
   "outputs": [
    {
     "data": {
      "text/html": [
       "<div>\n",
       "<style scoped>\n",
       "    .dataframe tbody tr th:only-of-type {\n",
       "        vertical-align: middle;\n",
       "    }\n",
       "\n",
       "    .dataframe tbody tr th {\n",
       "        vertical-align: top;\n",
       "    }\n",
       "\n",
       "    .dataframe thead th {\n",
       "        text-align: right;\n",
       "    }\n",
       "</style>\n",
       "<table border=\"1\" class=\"dataframe\">\n",
       "  <thead>\n",
       "    <tr style=\"text-align: right;\">\n",
       "      <th></th>\n",
       "      <th>borough</th>\n",
       "      <th>complaint_count</th>\n",
       "    </tr>\n",
       "  </thead>\n",
       "  <tbody>\n",
       "    <tr>\n",
       "      <th>0</th>\n",
       "      <td>BRONX</td>\n",
       "      <td>450933</td>\n",
       "    </tr>\n",
       "    <tr>\n",
       "      <th>1</th>\n",
       "      <td>BROOKLYN</td>\n",
       "      <td>771322</td>\n",
       "    </tr>\n",
       "    <tr>\n",
       "      <th>2</th>\n",
       "      <td>MANHATTAN</td>\n",
       "      <td>480314</td>\n",
       "    </tr>\n",
       "    <tr>\n",
       "      <th>3</th>\n",
       "      <td>QUEENS</td>\n",
       "      <td>589971</td>\n",
       "    </tr>\n",
       "    <tr>\n",
       "      <th>4</th>\n",
       "      <td>STATEN ISLAND</td>\n",
       "      <td>127136</td>\n",
       "    </tr>\n",
       "    <tr>\n",
       "      <th>5</th>\n",
       "      <td>Unspecified</td>\n",
       "      <td>41482</td>\n",
       "    </tr>\n",
       "  </tbody>\n",
       "</table>\n",
       "</div>"
      ],
      "text/plain": [
       "         borough  complaint_count\n",
       "0          BRONX           450933\n",
       "1       BROOKLYN           771322\n",
       "2      MANHATTAN           480314\n",
       "3         QUEENS           589971\n",
       "4  STATEN ISLAND           127136\n",
       "5    Unspecified            41482"
      ]
     },
     "execution_count": 28,
     "metadata": {},
     "output_type": "execute_result"
    }
   ],
   "source": [
    "df_complaintCountPerBorough = df_cityData[['borough','complaint_type']].groupby(['borough'])['complaint_type'].count().reset_index()\n",
    "df_complaintCountPerBorough.rename(columns = {'complaint_type': 'complaint_count'}, inplace=True)\n",
    "df_complaintCountPerBorough"
   ]
  },
  {
   "cell_type": "markdown",
   "metadata": {},
   "source": [
    "GRAB THE TOTAL POPULATION OF EACH BOROUGH"
   ]
  },
  {
   "cell_type": "code",
   "execution_count": 29,
   "metadata": {},
   "outputs": [
    {
     "data": {
      "text/html": [
       "<div>\n",
       "<style scoped>\n",
       "    .dataframe tbody tr th:only-of-type {\n",
       "        vertical-align: middle;\n",
       "    }\n",
       "\n",
       "    .dataframe tbody tr th {\n",
       "        vertical-align: top;\n",
       "    }\n",
       "\n",
       "    .dataframe thead th {\n",
       "        text-align: right;\n",
       "    }\n",
       "</style>\n",
       "<table border=\"1\" class=\"dataframe\">\n",
       "  <thead>\n",
       "    <tr style=\"text-align: right;\">\n",
       "      <th></th>\n",
       "      <th>borough</th>\n",
       "      <th>population</th>\n",
       "    </tr>\n",
       "  </thead>\n",
       "  <tbody>\n",
       "    <tr>\n",
       "      <th>0</th>\n",
       "      <td>BRONX</td>\n",
       "      <td>1592084</td>\n",
       "    </tr>\n",
       "    <tr>\n",
       "      <th>1</th>\n",
       "      <td>BROOKLYN</td>\n",
       "      <td>2732303</td>\n",
       "    </tr>\n",
       "    <tr>\n",
       "      <th>2</th>\n",
       "      <td>MANHATTAN</td>\n",
       "      <td>2073659</td>\n",
       "    </tr>\n",
       "    <tr>\n",
       "      <th>3</th>\n",
       "      <td>QUEENS</td>\n",
       "      <td>2755424</td>\n",
       "    </tr>\n",
       "    <tr>\n",
       "      <th>4</th>\n",
       "      <td>STATEN ISLAND</td>\n",
       "      <td>468730</td>\n",
       "    </tr>\n",
       "    <tr>\n",
       "      <th>5</th>\n",
       "      <td>Unspecified</td>\n",
       "      <td>13762538</td>\n",
       "    </tr>\n",
       "  </tbody>\n",
       "</table>\n",
       "</div>"
      ],
      "text/plain": [
       "         borough  population\n",
       "0          BRONX     1592084\n",
       "1       BROOKLYN     2732303\n",
       "2      MANHATTAN     2073659\n",
       "3         QUEENS     2755424\n",
       "4  STATEN ISLAND      468730\n",
       "5    Unspecified    13762538"
      ]
     },
     "execution_count": 29,
     "metadata": {},
     "output_type": "execute_result"
    }
   ],
   "source": [
    "#Grab necessary data from df_cityData\n",
    "df_zipBorough = df_cityData[['borough','incident_zip']]\n",
    "df_zipBorough = df_zipBorough.replace(['0', 'N/A', 'UNKNOWN', 'NA','.',''], pd.np.nan).dropna().drop_duplicates() #filter out 'bad' rows\n",
    "\n",
    "#Grab necessary data from df_populationData\n",
    "df_zipPop = df_populationData[['incident_zip','population']]\n",
    "\n",
    "#Merge and manipulate data to get the total population value for each borough\n",
    "df_populationOfBoroughs = pd.merge(df_zipBorough, df_zipPop, on='incident_zip')\n",
    "df_populationOfBoroughs = df_populationOfBoroughs.sort_values(by='borough')\n",
    "df_populationOfBoroughs = df_populationOfBoroughs.groupby(['borough'])['population'].sum().reset_index()\n",
    "df_populationOfBoroughs"
   ]
  },
  {
   "cell_type": "markdown",
   "metadata": {},
   "source": [
    "MERGE THE TWO TABLES SHOWN ABOVE"
   ]
  },
  {
   "cell_type": "code",
   "execution_count": 30,
   "metadata": {},
   "outputs": [
    {
     "data": {
      "text/html": [
       "<div>\n",
       "<style scoped>\n",
       "    .dataframe tbody tr th:only-of-type {\n",
       "        vertical-align: middle;\n",
       "    }\n",
       "\n",
       "    .dataframe tbody tr th {\n",
       "        vertical-align: top;\n",
       "    }\n",
       "\n",
       "    .dataframe thead th {\n",
       "        text-align: right;\n",
       "    }\n",
       "</style>\n",
       "<table border=\"1\" class=\"dataframe\">\n",
       "  <thead>\n",
       "    <tr style=\"text-align: right;\">\n",
       "      <th></th>\n",
       "      <th>borough</th>\n",
       "      <th>complaint_count</th>\n",
       "      <th>population</th>\n",
       "      <th>complaint_index</th>\n",
       "    </tr>\n",
       "  </thead>\n",
       "  <tbody>\n",
       "    <tr>\n",
       "      <th>0</th>\n",
       "      <td>BRONX</td>\n",
       "      <td>450933</td>\n",
       "      <td>1592084</td>\n",
       "      <td>0.283234</td>\n",
       "    </tr>\n",
       "    <tr>\n",
       "      <th>1</th>\n",
       "      <td>BROOKLYN</td>\n",
       "      <td>771322</td>\n",
       "      <td>2732303</td>\n",
       "      <td>0.282297</td>\n",
       "    </tr>\n",
       "    <tr>\n",
       "      <th>4</th>\n",
       "      <td>STATEN ISLAND</td>\n",
       "      <td>127136</td>\n",
       "      <td>468730</td>\n",
       "      <td>0.271235</td>\n",
       "    </tr>\n",
       "    <tr>\n",
       "      <th>2</th>\n",
       "      <td>MANHATTAN</td>\n",
       "      <td>480314</td>\n",
       "      <td>2073659</td>\n",
       "      <td>0.231626</td>\n",
       "    </tr>\n",
       "    <tr>\n",
       "      <th>3</th>\n",
       "      <td>QUEENS</td>\n",
       "      <td>589971</td>\n",
       "      <td>2755424</td>\n",
       "      <td>0.214113</td>\n",
       "    </tr>\n",
       "    <tr>\n",
       "      <th>5</th>\n",
       "      <td>Unspecified</td>\n",
       "      <td>41482</td>\n",
       "      <td>13762538</td>\n",
       "      <td>0.003014</td>\n",
       "    </tr>\n",
       "  </tbody>\n",
       "</table>\n",
       "</div>"
      ],
      "text/plain": [
       "         borough  complaint_count  population  complaint_index\n",
       "0          BRONX           450933     1592084         0.283234\n",
       "1       BROOKLYN           771322     2732303         0.282297\n",
       "4  STATEN ISLAND           127136      468730         0.271235\n",
       "2      MANHATTAN           480314     2073659         0.231626\n",
       "3         QUEENS           589971     2755424         0.214113\n",
       "5    Unspecified            41482    13762538         0.003014"
      ]
     },
     "execution_count": 30,
     "metadata": {},
     "output_type": "execute_result"
    }
   ],
   "source": [
    "df_biggestComplainers = pd.merge(df_complaintCountPerBorough, df_populationOfBoroughs, on='borough')\n",
    "#calculate complaint index (complaint_count/population) for each borough\n",
    "df_biggestComplainers['complaint_index'] = df_biggestComplainers['complaint_count']/df_biggestComplainers['population']\n",
    "df_biggestComplainers.sort_values(by='complaint_index', ascending=False) #sort by biggest \"complainers\""
   ]
  },
  {
   "cell_type": "markdown",
   "metadata": {},
   "source": [
    "RESULT: Based on the above data, we can easily see that people from the Bronx are the biggest \"complainers\", with an average of around 1 complaint per 3.5 people. "
   ]
  },
  {
   "cell_type": "code",
   "execution_count": null,
   "metadata": {},
   "outputs": [],
   "source": []
  }
 ],
 "metadata": {
  "kernelspec": {
   "display_name": "Python 3",
   "language": "python",
   "name": "python3"
  },
  "language_info": {
   "codemirror_mode": {
    "name": "ipython",
    "version": 3
   },
   "file_extension": ".py",
   "mimetype": "text/x-python",
   "name": "python",
   "nbconvert_exporter": "python",
   "pygments_lexer": "ipython3",
   "version": "3.6.4"
  }
 },
 "nbformat": 4,
 "nbformat_minor": 2
}
