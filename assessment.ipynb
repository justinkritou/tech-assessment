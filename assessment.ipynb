{
 "cells": [
  {
   "cell_type": "markdown",
   "metadata": {},
   "source": [
    "IMPORT PACKAGES"
   ]
  },
  {
   "cell_type": "code",
   "execution_count": 1,
   "metadata": {},
   "outputs": [],
   "source": [
    "import requests\n",
    "import pandas as pd"
   ]
  },
  {
   "cell_type": "markdown",
   "metadata": {},
   "source": [
    "PULL DATA FROM SOCRATA API"
   ]
  },
  {
   "cell_type": "code",
   "execution_count": 2,
   "metadata": {},
   "outputs": [
    {
     "name": "stdout",
     "output_type": "stream",
     "text": [
      "#rows in dataframe: 2445430\n"
     ]
    }
   ],
   "source": [
    "offset = 0\n",
    "LIMIT = 1000000 #max rows which can be pulled from the api at a time\n",
    "df_collection = [] #array which will hold multiple batches of data\n",
    "while True:\n",
    "    apiData = requests.get(\"https://data.cityofnewyork.us/resource/fhrw-4uyv.json?$WHERE=created_date between '2017-01-01T00:00:00.000' and '2017-12-31T23:59:59.999' &$limit=\" + str(LIMIT) + \" &$offset=\" + str(offset)).json()\n",
    "    dfTemp = pd.DataFrame(data=apiData) #convert each batch of data into a dataframe so we can easily use the pandas concat method later\n",
    "    df_collection.append(dfTemp)\n",
    "    offset += LIMIT\n",
    "    if (len(apiData)-LIMIT) >= 0: #check if the max limit was pulled from the api\n",
    "        continue\n",
    "    else: #near end of dataset, no need to send another request\n",
    "        break\n",
    "        \n",
    "#concatenate all of the batches of data into one DataFrame\n",
    "df = pd.concat(df_collection)\n",
    "\n",
    "#test that all 2017 records are in the dataframe\n",
    "#df['created_date'].min() = '2017-01-01T00:00:00.000'\n",
    "#df['created_date'].max() = '2017-12-31T23:59:35.000'\n",
    "print(\"#rows in dataframe: \" + str(len(df)))"
   ]
  },
  {
   "cell_type": "markdown",
   "metadata": {},
   "source": [
    "#Consider only the 10 most common overall complaint types. For each borough, how many of each of those 10 types were there in 2017?"
   ]
  },
  {
   "cell_type": "code",
   "execution_count": 3,
   "metadata": {},
   "outputs": [
    {
     "data": {
      "text/plain": [
       "Noise - Residential        230306\n",
       "HEAT/HOT WATER             213520\n",
       "Illegal Parking            146304\n",
       "Blocked Driveway           136293\n",
       "Street Condition            93270\n",
       "Street Light Condition      84177\n",
       "UNSANITARY CONDITION        79228\n",
       "Noise - Street/Sidewalk     73115\n",
       "Water System                65109\n",
       "Noise                       60201\n",
       "Name: complaint_type, dtype: int64"
      ]
     },
     "execution_count": 3,
     "metadata": {},
     "output_type": "execute_result"
    }
   ],
   "source": [
    "#filter out the top 10 complaint types\n",
    "topTenComplaintTypes = df['complaint_type'].value_counts().head(10)\n",
    "topTenComplaintTypes"
   ]
  },
  {
   "cell_type": "code",
   "execution_count": 13,
   "metadata": {},
   "outputs": [
    {
     "data": {
      "text/plain": [
       "borough        complaint_type         \n",
       "BRONX          Blocked Driveway           24600\n",
       "               HEAT/HOT WATER             68717\n",
       "               Illegal Parking            16154\n",
       "               Noise                       3136\n",
       "               Noise - Residential        57707\n",
       "               Noise - Street/Sidewalk    14027\n",
       "               Street Condition           11756\n",
       "               Street Light Condition     18419\n",
       "               UNSANITARY CONDITION       24526\n",
       "               Water System               10186\n",
       "BROOKLYN       Blocked Driveway           49385\n",
       "               HEAT/HOT WATER             66984\n",
       "               Illegal Parking            55458\n",
       "               Noise                      15436\n",
       "               Noise - Residential        67676\n",
       "               Noise - Street/Sidewalk    21323\n",
       "               Street Condition           25431\n",
       "               Street Light Condition     22440\n",
       "               UNSANITARY CONDITION       26656\n",
       "               Water System               19826\n",
       "MANHATTAN      Blocked Driveway            3431\n",
       "               HEAT/HOT WATER             46529\n",
       "               Illegal Parking            19717\n",
       "               Noise                      29016\n",
       "               Noise - Residential        51065\n",
       "               Noise - Street/Sidewalk    29160\n",
       "               Street Condition           14833\n",
       "               Street Light Condition     11053\n",
       "               UNSANITARY CONDITION       14636\n",
       "               Water System               10946\n",
       "QUEENS         Blocked Driveway           54373\n",
       "               HEAT/HOT WATER             29217\n",
       "               Illegal Parking            46103\n",
       "               Noise                      10686\n",
       "               Noise - Residential        46415\n",
       "               Noise - Street/Sidewalk     7535\n",
       "               Street Condition           30631\n",
       "               Street Light Condition     24269\n",
       "               UNSANITARY CONDITION       11457\n",
       "               Water System               18790\n",
       "STATEN ISLAND  Blocked Driveway            3466\n",
       "               HEAT/HOT WATER              2073\n",
       "               Illegal Parking             7578\n",
       "               Noise                       1924\n",
       "               Noise - Residential         6749\n",
       "               Noise - Street/Sidewalk      853\n",
       "               Street Condition           10576\n",
       "               Street Light Condition      6611\n",
       "               UNSANITARY CONDITION        1953\n",
       "               Water System                5361\n",
       "Unspecified    Blocked Driveway            1038\n",
       "               Illegal Parking             1294\n",
       "               Noise                          3\n",
       "               Noise - Residential          694\n",
       "               Noise - Street/Sidewalk      217\n",
       "               Street Condition              43\n",
       "               Street Light Condition      1385\n",
       "Name: complaint_type, dtype: int64"
      ]
     },
     "execution_count": 13,
     "metadata": {},
     "output_type": "execute_result"
    }
   ],
   "source": [
    "#filter the records for which the complaint type matches one found in 'topTenComplaintTypes'\n",
    "dfTask1 = df.loc[df['complaint_type'].isin(topTenComplaintTypes.index)]\n",
    "#filter the records to include only the 'borough' & 'complaint_type' (multiple for each borough), and the number of occurences for each complaint within that borough\n",
    "dfTask1[['borough','complaint_type']].groupby(['borough','complaint_type'])['complaint_type'].count()"
   ]
  },
  {
   "cell_type": "code",
   "execution_count": null,
   "metadata": {},
   "outputs": [],
   "source": [
    "\n"
   ]
  }
 ],
 "metadata": {
  "kernelspec": {
   "display_name": "Python 3",
   "language": "python",
   "name": "python3"
  },
  "language_info": {
   "codemirror_mode": {
    "name": "ipython",
    "version": 3
   },
   "file_extension": ".py",
   "mimetype": "text/x-python",
   "name": "python",
   "nbconvert_exporter": "python",
   "pygments_lexer": "ipython3",
   "version": "3.6.4"
  }
 },
 "nbformat": 4,
 "nbformat_minor": 2
}
