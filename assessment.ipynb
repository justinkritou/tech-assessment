{
 "cells": [
  {
   "cell_type": "code",
   "execution_count": 81,
   "metadata": {},
   "outputs": [],
   "source": [
    "import pandas as pd\n",
    "import numpy as np"
   ]
  },
  {
   "cell_type": "code",
   "execution_count": 82,
   "metadata": {},
   "outputs": [
    {
     "name": "stdout",
     "output_type": "stream",
     "text": [
      "Finished! Data now available.\n"
     ]
    }
   ],
   "source": [
    "#Read in the datafile (data grabbed from API using 'get_data.py')\n",
    "df_cityData = pd.read_csv('2017_NYC_Data.csv', low_memory=False)\n",
    "print(\"Finished! Data now available.\")"
   ]
  },
  {
   "cell_type": "markdown",
   "metadata": {},
   "source": [
    "Clean up \"Unspecified\" borough's using dataset below (contains zipcode:borough pair):\n",
    "https://www.nycbynatives.com/nyc_info/new_york_city_zip_codes.php\n",
    "\n",
    "I copy and pasted this data into an excel spreadsheet and saved it as an csv file. There are other ways to grab the data although I found this way to be the easiest and quickest."
   ]
  },
  {
   "cell_type": "code",
   "execution_count": 83,
   "metadata": {},
   "outputs": [],
   "source": [
    "#filter the \"Unspecified\" boroughs and their coordinating incident_zip from 'df_cityData'\n",
    "df_cleanedCityData = df_cityData[['borough', 'incident_zip']].dropna()\n",
    "df_cleanedCityData = df_cleanedCityData.loc[df_cleanedCityData['borough']=='Unspecified']"
   ]
  },
  {
   "cell_type": "code",
   "execution_count": 84,
   "metadata": {},
   "outputs": [],
   "source": [
    "df_nycZipBorough = pd.read_csv('NYC_Zips.csv') #read in the dataset specified in the markdown above\n",
    "\n",
    "#clean up the new data and format it correctly\n",
    "df_nycZipBorough = df_nycZipBorough.dropna()\n",
    "df_nycZipBorough['zipcode'] = df_nycZipBorough['zipcode'].apply(int).apply(str)#remove the '.0' from zips(.replace method was acting weird)\n",
    "df_nycZipBorough['borough'] = df_nycZipBorough['borough'].str.upper().replace('STATEN', 'STATEN ISLAND')\n",
    "df_nycZipBorough.rename(columns={'zipcode': 'incident_zip'} ,inplace=True)\n",
    "\n",
    "#merge the two dataframes (containing the unspecified boroughs and the specified ones on the 'incident_zip'),\n",
    "#dropping the \"Unspecified\" borough row in the process\n",
    "nowSpecifiedBoroughs = pd.merge(df_cleanedCityData['incident_zip'].to_frame(), df_nycZipBorough, on='incident_zip').drop_duplicates()"
   ]
  },
  {
   "cell_type": "code",
   "execution_count": 85,
   "metadata": {},
   "outputs": [],
   "source": [
    "#merge the original cityData with the data containing the specified boroughs\n",
    "df_cityData = pd.merge(df_cityData, nowSpecifiedBoroughs, how='left', on='incident_zip')"
   ]
  },
  {
   "cell_type": "code",
   "execution_count": 86,
   "metadata": {},
   "outputs": [],
   "source": [
    "#Swap the \"Unspecified\" boroughs out with the \n",
    "df_cityData['borough_x']=df_cityData['borough_x'].replace('Unspecified', np.NaN)\n",
    "df_cityData.borough_x.fillna(df_cityData.borough_y, inplace=True) #fill the now 'NaN' field with the specified borough value (borough_y)\n",
    "df_cityData = df_cityData.drop(columns=['borough_y']) #drop the no longer needed row\n",
    "df_cityData.rename(columns={'borough_x': 'borough'} ,inplace=True)"
   ]
  },
  {
   "cell_type": "markdown",
   "metadata": {},
   "source": [
    "##Consider only the 10 most common overall complaint types. For each borough, how many of each of those 10 types were there in 2017?"
   ]
  },
  {
   "cell_type": "markdown",
   "metadata": {},
   "source": [
    "filter out the top 10 complaint types"
   ]
  },
  {
   "cell_type": "code",
   "execution_count": 87,
   "metadata": {},
   "outputs": [
    {
     "data": {
      "text/plain": [
       "Noise - Residential        230294\n",
       "HEAT/HOT WATER             213530\n",
       "Illegal Parking            146207\n",
       "Blocked Driveway           136168\n",
       "Street Condition            93314\n",
       "Street Light Condition      84120\n",
       "UNSANITARY CONDITION        79263\n",
       "Noise - Street/Sidewalk     73139\n",
       "Water System                65033\n",
       "Noise                       60180\n",
       "Name: complaint_type, dtype: int64"
      ]
     },
     "execution_count": 87,
     "metadata": {},
     "output_type": "execute_result"
    }
   ],
   "source": [
    "df_topTenComplaintTypes = df_cityData['complaint_type'].value_counts().head(10)\n",
    "df_topTenComplaintTypes"
   ]
  },
  {
   "cell_type": "markdown",
   "metadata": {},
   "source": [
    "filter the city data further using the above results"
   ]
  },
  {
   "cell_type": "code",
   "execution_count": 88,
   "metadata": {
    "scrolled": true
   },
   "outputs": [
    {
     "data": {
      "text/plain": [
       "borough        complaint_type         \n",
       "BRONX          Blocked Driveway           24601\n",
       "               HEAT/HOT WATER             68718\n",
       "               Illegal Parking            16147\n",
       "               Noise                       3133\n",
       "               Noise - Residential        57720\n",
       "               Noise - Street/Sidewalk    14049\n",
       "               Street Condition           11762\n",
       "               Street Light Condition     18416\n",
       "               UNSANITARY CONDITION       24535\n",
       "               Water System               10179\n",
       "BROOKLYN       Blocked Driveway           49421\n",
       "               HEAT/HOT WATER             66987\n",
       "               Illegal Parking            55505\n",
       "               Noise                      15424\n",
       "               Noise - Residential        67702\n",
       "               Noise - Street/Sidewalk    21328\n",
       "               Street Condition           25450\n",
       "               Street Light Condition     22435\n",
       "               UNSANITARY CONDITION       26667\n",
       "               Water System               19805\n",
       "MANHATTAN      Blocked Driveway            3431\n",
       "               HEAT/HOT WATER             46532\n",
       "               Illegal Parking            19744\n",
       "               Noise                      29015\n",
       "               Noise - Residential        51080\n",
       "               Noise - Street/Sidewalk    29173\n",
       "               Street Condition           14841\n",
       "               Street Light Condition     11054\n",
       "               UNSANITARY CONDITION       14641\n",
       "               Water System               10926\n",
       "QUEENS         Blocked Driveway           54392\n",
       "               HEAT/HOT WATER             29220\n",
       "               Illegal Parking            46158\n",
       "               Noise                      10679\n",
       "               Noise - Residential        46454\n",
       "               Noise - Street/Sidewalk     7537\n",
       "               Street Condition           30652\n",
       "               Street Light Condition     24228\n",
       "               UNSANITARY CONDITION       11467\n",
       "               Water System               18774\n",
       "STATEN ISLAND  Blocked Driveway            3800\n",
       "               HEAT/HOT WATER              2073\n",
       "               Illegal Parking             8065\n",
       "               Noise                       1926\n",
       "               Noise - Residential         7043\n",
       "               Noise - Street/Sidewalk      868\n",
       "               Street Condition           10601\n",
       "               Street Light Condition      6664\n",
       "               UNSANITARY CONDITION        1953\n",
       "               Water System                5349\n",
       "Name: complaint_type, dtype: int64"
      ]
     },
     "execution_count": 88,
     "metadata": {},
     "output_type": "execute_result"
    }
   ],
   "source": [
    "#filter the records for which the complaint type matches one found in 'df_topTenComplaintTypes'\n",
    "df_TopTenData = df_cityData.loc[df_cityData['complaint_type'].isin(df_topTenComplaintTypes.index)]\n",
    "#filter the records to include only the 'borough' & 'complaint_type' (multiple for each borough), and the number of occurences for each complaint within that borough\n",
    "df_TopTenData[['borough','complaint_type']].groupby(['borough','complaint_type'])['complaint_type'].count()"
   ]
  },
  {
   "cell_type": "markdown",
   "metadata": {},
   "source": [
    "##Consider only the 10 most common overall complaint types.  For the 10 most populous zip codes, how many of each of those 10 types were there in 2017?"
   ]
  },
  {
   "cell_type": "markdown",
   "metadata": {},
   "source": [
    "read in the new dataset and merge the population data with the city data"
   ]
  },
  {
   "cell_type": "code",
   "execution_count": 89,
   "metadata": {},
   "outputs": [],
   "source": [
    "#read in the dataset containing the population data\n",
    "df_populationData = pd.read_csv('PopulationData.csv')"
   ]
  },
  {
   "cell_type": "code",
   "execution_count": 90,
   "metadata": {
    "scrolled": true
   },
   "outputs": [],
   "source": [
    "#merge the two dataframes\n",
    "df_populationData.columns = ['incident_zip','population'] #rename columns to match other df\n",
    "df_populationData['incident_zip'] = df_populationData['incident_zip'].apply(str)#change column type to string to handle 'NaN' in df_zipAndComplaintType\n",
    "df_zipAndComplaintType = df_cityData[['incident_zip','complaint_type']] #grab necessary data from df_cityData\n",
    "df_mergedData = pd.merge(df_populationData, df_zipAndComplaintType, on='incident_zip')"
   ]
  },
  {
   "cell_type": "markdown",
   "metadata": {},
   "source": [
    "apply filtering and grab the necessary data"
   ]
  },
  {
   "cell_type": "code",
   "execution_count": 91,
   "metadata": {},
   "outputs": [
    {
     "name": "stdout",
     "output_type": "stream",
     "text": [
      "                                                     \n",
      "incident_zip population complaint_type               \n",
      "11368        109931     UNSANITARY CONDITION      639\n",
      "                        Street Light Condition    441\n",
      "                        Blocked Driveway         4387\n",
      "                        HEAT/HOT WATER           1621\n",
      "                        Illegal Parking          1251\n",
      "                        Noise                     158\n",
      "                        Noise - Residential      2461\n",
      "                        Street Condition          561\n",
      "                        Noise - Street/Sidewalk   685\n",
      "                        Water System              618\n",
      "11226        101572     Noise - Residential      4857\n",
      "                        Blocked Driveway         2204\n",
      "                        Water System              406\n",
      "                        Illegal Parking          1078\n",
      "                        Noise                     440\n",
      "                        HEAT/HOT WATER           7569\n",
      "                        Noise - Street/Sidewalk  1831\n",
      "                        Street Condition          491\n",
      "                        Street Light Condition    202\n",
      "                        UNSANITARY CONDITION     3155\n",
      "11373        100820     Illegal Parking          1279\n",
      "                        Noise                     270\n",
      "                        Noise - Residential      1846\n",
      "                        Noise - Street/Sidewalk   304\n",
      "                        Street Condition          693\n",
      "                        Street Light Condition    362\n",
      "                        UNSANITARY CONDITION      755\n",
      "                        Water System              375\n",
      "                        HEAT/HOT WATER           3408\n",
      "                        Blocked Driveway         2635\n",
      "11220        99598      Noise - Street/Sidewalk   498\n",
      "                        HEAT/HOT WATER           1634\n",
      "                        Illegal Parking          2014\n",
      "                        Noise                     441\n",
      "                        Noise - Residential      1525\n",
      "                        Water System              674\n",
      "                        UNSANITARY CONDITION      720\n",
      "                        Street Light Condition    612\n",
      "                        Street Condition          688\n",
      "                        Blocked Driveway         1558\n",
      "11385        98592      Noise - Street/Sidewalk   607\n",
      "                        UNSANITARY CONDITION      646\n",
      "                        Water System             1238\n",
      "                        Street Condition         1235\n",
      "                        HEAT/HOT WATER           1526\n",
      "                        Noise - Residential      2608\n",
      "                        Noise                     506\n",
      "                        Illegal Parking          4136\n",
      "                        Street Light Condition    790\n",
      "                        Blocked Driveway         3041\n",
      "10467        97060      Noise - Street/Sidewalk   715\n",
      "                        UNSANITARY CONDITION     2192\n",
      "                        Street Light Condition    407\n",
      "                        Street Condition          613\n",
      "                        Noise - Residential      5807\n",
      "                        Noise                     285\n",
      "                        Illegal Parking           987\n",
      "                        HEAT/HOT WATER           6041\n",
      "                        Blocked Driveway         2071\n",
      "                        Water System              558\n",
      "10025        94600      Noise                    1398\n",
      "                        HEAT/HOT WATER           2397\n",
      "                        Blocked Driveway          125\n",
      "                        Noise - Residential      2086\n",
      "                        Noise - Street/Sidewalk  1224\n",
      "                        Street Condition          627\n",
      "                        Street Light Condition     21\n",
      "                        UNSANITARY CONDITION      715\n",
      "                        Water System              482\n",
      "                        Illegal Parking           736\n",
      "11208        94469      HEAT/HOT WATER           2052\n",
      "                        Blocked Driveway         2757\n",
      "                        UNSANITARY CONDITION     1341\n",
      "                        Street Light Condition    566\n",
      "                        Street Condition          816\n",
      "                        Noise - Street/Sidewalk   825\n",
      "                        Noise - Residential      2796\n",
      "                        Noise                     188\n",
      "                        Illegal Parking          2150\n",
      "                        Water System              710\n",
      "11236        93877      Noise - Residential      1931\n",
      "                        UNSANITARY CONDITION      562\n",
      "                        Illegal Parking          1431\n",
      "                        Street Condition         1023\n",
      "                        Street Light Condition    180\n",
      "                        Water System              622\n",
      "                        HEAT/HOT WATER           1146\n",
      "                        Blocked Driveway         3042\n",
      "                        Noise                     108\n",
      "                        Noise - Street/Sidewalk   201\n",
      "11207        93386      Water System              753\n",
      "                        UNSANITARY CONDITION     1622\n",
      "                        Illegal Parking          1500\n",
      "                        Noise                     199\n",
      "                        HEAT/HOT WATER           2462\n",
      "                        Noise - Residential      3065\n",
      "                        Noise - Street/Sidewalk   559\n",
      "                        Street Condition         1145\n",
      "                        Street Light Condition    928\n",
      "                        Blocked Driveway         2065\n"
     ]
    }
   ],
   "source": [
    "df_overlappingZips = df_mergedData.loc[df_mergedData['incident_zip'].isin(df_cityData['incident_zip'])] #filter for overlapping zip codes\n",
    "df_overlappingZips = df_overlappingZips.loc[df_overlappingZips['complaint_type'].isin(df_topTenComplaintTypes.index)] #filter for top ten complaints\n",
    "df_overlappingZips = df_overlappingZips.groupby(['incident_zip','population','complaint_type'])['complaint_type'].count()\n",
    "df_overlappingZips = df_overlappingZips.to_frame('').sort_values(by='population', ascending=False).head(100) #sort and grab first 100 (10zips x 10complaints = 100rows)\n",
    "print(df_overlappingZips.to_string()) #print ALL data rows "
   ]
  },
  {
   "cell_type": "markdown",
   "metadata": {},
   "source": [
    "##Considering all complaint types. Which boroughs are the biggest \"complainers\" relative to the size of the population in 2017? Meaning, calculate a complaint-index that adjusts for population of the borough."
   ]
  },
  {
   "cell_type": "markdown",
   "metadata": {},
   "source": [
    "grab the total # of complaints for each borough"
   ]
  },
  {
   "cell_type": "code",
   "execution_count": 92,
   "metadata": {
    "scrolled": true
   },
   "outputs": [
    {
     "data": {
      "text/html": [
       "<div>\n",
       "<style scoped>\n",
       "    .dataframe tbody tr th:only-of-type {\n",
       "        vertical-align: middle;\n",
       "    }\n",
       "\n",
       "    .dataframe tbody tr th {\n",
       "        vertical-align: top;\n",
       "    }\n",
       "\n",
       "    .dataframe thead th {\n",
       "        text-align: right;\n",
       "    }\n",
       "</style>\n",
       "<table border=\"1\" class=\"dataframe\">\n",
       "  <thead>\n",
       "    <tr style=\"text-align: right;\">\n",
       "      <th></th>\n",
       "      <th>borough</th>\n",
       "      <th>complaint_count</th>\n",
       "    </tr>\n",
       "  </thead>\n",
       "  <tbody>\n",
       "    <tr>\n",
       "      <th>0</th>\n",
       "      <td>BRONX</td>\n",
       "      <td>450986</td>\n",
       "    </tr>\n",
       "    <tr>\n",
       "      <th>1</th>\n",
       "      <td>BROOKLYN</td>\n",
       "      <td>771796</td>\n",
       "    </tr>\n",
       "    <tr>\n",
       "      <th>2</th>\n",
       "      <td>MANHATTAN</td>\n",
       "      <td>480642</td>\n",
       "    </tr>\n",
       "    <tr>\n",
       "      <th>3</th>\n",
       "      <td>QUEENS</td>\n",
       "      <td>590107</td>\n",
       "    </tr>\n",
       "    <tr>\n",
       "      <th>4</th>\n",
       "      <td>STATEN ISLAND</td>\n",
       "      <td>129530</td>\n",
       "    </tr>\n",
       "  </tbody>\n",
       "</table>\n",
       "</div>"
      ],
      "text/plain": [
       "         borough  complaint_count\n",
       "0          BRONX           450986\n",
       "1       BROOKLYN           771796\n",
       "2      MANHATTAN           480642\n",
       "3         QUEENS           590107\n",
       "4  STATEN ISLAND           129530"
      ]
     },
     "execution_count": 92,
     "metadata": {},
     "output_type": "execute_result"
    }
   ],
   "source": [
    "df_complaintCountPerBorough = df_cityData[['borough','complaint_type']].groupby(['borough'])['complaint_type'].count().reset_index()\n",
    "df_complaintCountPerBorough.rename(columns = {'complaint_type': 'complaint_count'}, inplace=True)\n",
    "df_complaintCountPerBorough"
   ]
  },
  {
   "cell_type": "markdown",
   "metadata": {},
   "source": [
    "grab the total population of each borough"
   ]
  },
  {
   "cell_type": "code",
   "execution_count": 93,
   "metadata": {},
   "outputs": [
    {
     "data": {
      "text/html": [
       "<div>\n",
       "<style scoped>\n",
       "    .dataframe tbody tr th:only-of-type {\n",
       "        vertical-align: middle;\n",
       "    }\n",
       "\n",
       "    .dataframe tbody tr th {\n",
       "        vertical-align: top;\n",
       "    }\n",
       "\n",
       "    .dataframe thead th {\n",
       "        text-align: right;\n",
       "    }\n",
       "</style>\n",
       "<table border=\"1\" class=\"dataframe\">\n",
       "  <thead>\n",
       "    <tr style=\"text-align: right;\">\n",
       "      <th></th>\n",
       "      <th>borough</th>\n",
       "      <th>population</th>\n",
       "    </tr>\n",
       "  </thead>\n",
       "  <tbody>\n",
       "    <tr>\n",
       "      <th>0</th>\n",
       "      <td>BRONX</td>\n",
       "      <td>1592084</td>\n",
       "    </tr>\n",
       "    <tr>\n",
       "      <th>1</th>\n",
       "      <td>BROOKLYN</td>\n",
       "      <td>2732303</td>\n",
       "    </tr>\n",
       "    <tr>\n",
       "      <th>2</th>\n",
       "      <td>MANHATTAN</td>\n",
       "      <td>2073659</td>\n",
       "    </tr>\n",
       "    <tr>\n",
       "      <th>3</th>\n",
       "      <td>QUEENS</td>\n",
       "      <td>2755424</td>\n",
       "    </tr>\n",
       "    <tr>\n",
       "      <th>4</th>\n",
       "      <td>STATEN ISLAND</td>\n",
       "      <td>468730</td>\n",
       "    </tr>\n",
       "  </tbody>\n",
       "</table>\n",
       "</div>"
      ],
      "text/plain": [
       "         borough  population\n",
       "0          BRONX     1592084\n",
       "1       BROOKLYN     2732303\n",
       "2      MANHATTAN     2073659\n",
       "3         QUEENS     2755424\n",
       "4  STATEN ISLAND      468730"
      ]
     },
     "execution_count": 93,
     "metadata": {},
     "output_type": "execute_result"
    }
   ],
   "source": [
    "#Grab necessary data from df_cityData\n",
    "df_zipBorough = df_cityData[['borough','incident_zip']]\n",
    "df_zipBorough = df_zipBorough.replace(['0', 'N/A', 'UNKNOWN', 'NA','.',''], pd.np.nan).dropna().drop_duplicates() #filter out 'bad' rows\n",
    "\n",
    "#Grab necessary data from df_populationData\n",
    "df_zipPop = df_populationData[['incident_zip','population']]\n",
    "\n",
    "#Merge and manipulate data to get the total population value for each borough\n",
    "df_populationOfBoroughs = pd.merge(df_zipBorough, df_zipPop, on='incident_zip')\n",
    "df_populationOfBoroughs = df_populationOfBoroughs.sort_values(by='borough')\n",
    "df_populationOfBoroughs = df_populationOfBoroughs.groupby(['borough'])['population'].sum().reset_index()\n",
    "df_populationOfBoroughs"
   ]
  },
  {
   "cell_type": "markdown",
   "metadata": {},
   "source": [
    "merge the two tables shown above"
   ]
  },
  {
   "cell_type": "code",
   "execution_count": 94,
   "metadata": {},
   "outputs": [
    {
     "data": {
      "text/html": [
       "<div>\n",
       "<style scoped>\n",
       "    .dataframe tbody tr th:only-of-type {\n",
       "        vertical-align: middle;\n",
       "    }\n",
       "\n",
       "    .dataframe tbody tr th {\n",
       "        vertical-align: top;\n",
       "    }\n",
       "\n",
       "    .dataframe thead th {\n",
       "        text-align: right;\n",
       "    }\n",
       "</style>\n",
       "<table border=\"1\" class=\"dataframe\">\n",
       "  <thead>\n",
       "    <tr style=\"text-align: right;\">\n",
       "      <th></th>\n",
       "      <th>borough</th>\n",
       "      <th>complaint_count</th>\n",
       "      <th>population</th>\n",
       "      <th>complaint_index</th>\n",
       "    </tr>\n",
       "  </thead>\n",
       "  <tbody>\n",
       "    <tr>\n",
       "      <th>0</th>\n",
       "      <td>BRONX</td>\n",
       "      <td>450986</td>\n",
       "      <td>1592084</td>\n",
       "      <td>0.283268</td>\n",
       "    </tr>\n",
       "    <tr>\n",
       "      <th>1</th>\n",
       "      <td>BROOKLYN</td>\n",
       "      <td>771796</td>\n",
       "      <td>2732303</td>\n",
       "      <td>0.282471</td>\n",
       "    </tr>\n",
       "    <tr>\n",
       "      <th>4</th>\n",
       "      <td>STATEN ISLAND</td>\n",
       "      <td>129530</td>\n",
       "      <td>468730</td>\n",
       "      <td>0.276342</td>\n",
       "    </tr>\n",
       "    <tr>\n",
       "      <th>2</th>\n",
       "      <td>MANHATTAN</td>\n",
       "      <td>480642</td>\n",
       "      <td>2073659</td>\n",
       "      <td>0.231784</td>\n",
       "    </tr>\n",
       "    <tr>\n",
       "      <th>3</th>\n",
       "      <td>QUEENS</td>\n",
       "      <td>590107</td>\n",
       "      <td>2755424</td>\n",
       "      <td>0.214162</td>\n",
       "    </tr>\n",
       "  </tbody>\n",
       "</table>\n",
       "</div>"
      ],
      "text/plain": [
       "         borough  complaint_count  population  complaint_index\n",
       "0          BRONX           450986     1592084         0.283268\n",
       "1       BROOKLYN           771796     2732303         0.282471\n",
       "4  STATEN ISLAND           129530      468730         0.276342\n",
       "2      MANHATTAN           480642     2073659         0.231784\n",
       "3         QUEENS           590107     2755424         0.214162"
      ]
     },
     "execution_count": 94,
     "metadata": {},
     "output_type": "execute_result"
    }
   ],
   "source": [
    "df_biggestComplainers = pd.merge(df_complaintCountPerBorough, df_populationOfBoroughs, on='borough')\n",
    "#calculate complaint index (complaint_count/population) for each borough\n",
    "df_biggestComplainers['complaint_index'] = df_biggestComplainers['complaint_count']/df_biggestComplainers['population']\n",
    "df_biggestComplainers.sort_values(by='complaint_index', ascending=False) #sort by biggest \"complainers\""
   ]
  },
  {
   "cell_type": "markdown",
   "metadata": {},
   "source": [
    "RESULT: Based on the above data, we can easily see that people from the Bronx are the biggest \"complainers\" with an average of around 1 complaint per 3.5 people. "
   ]
  },
  {
   "cell_type": "code",
   "execution_count": null,
   "metadata": {},
   "outputs": [],
   "source": []
  }
 ],
 "metadata": {
  "kernelspec": {
   "display_name": "Python 3",
   "language": "python",
   "name": "python3"
  },
  "language_info": {
   "codemirror_mode": {
    "name": "ipython",
    "version": 3
   },
   "file_extension": ".py",
   "mimetype": "text/x-python",
   "name": "python",
   "nbconvert_exporter": "python",
   "pygments_lexer": "ipython3",
   "version": "3.6.4"
  }
 },
 "nbformat": 4,
 "nbformat_minor": 2
}
