{
 "cells": [
  {
   "cell_type": "code",
   "execution_count": 1,
   "metadata": {},
   "outputs": [],
   "source": [
    "import pandas as pd\n",
    "import numpy as np"
   ]
  },
  {
   "cell_type": "code",
   "execution_count": 13,
   "metadata": {},
   "outputs": [
    {
     "name": "stdout",
     "output_type": "stream",
     "text": [
      "Finished! Data now available.\n"
     ]
    }
   ],
   "source": [
    "#Read in the datafile (data grabbed from API using 'get_data.py')\n",
    "df_cityData = pd.read_csv('2017_NYC_Data.csv', low_memory=False)\n",
    "print(\"Finished! Data now available.\")"
   ]
  },
  {
   "cell_type": "markdown",
   "metadata": {},
   "source": [
    "##Consider only the 10 most common overall complaint types. For each borough, how many of each of those 10 types were there in 2017?"
   ]
  },
  {
   "cell_type": "markdown",
   "metadata": {},
   "source": [
    "filter out the top 10 complaint types"
   ]
  },
  {
   "cell_type": "code",
   "execution_count": 14,
   "metadata": {},
   "outputs": [
    {
     "data": {
      "text/plain": [
       "Noise - Residential        230355\n",
       "HEAT/HOT WATER             213630\n",
       "Illegal Parking            146213\n",
       "Blocked Driveway           136156\n",
       "Street Condition            93336\n",
       "Street Light Condition      84298\n",
       "UNSANITARY CONDITION        79349\n",
       "Noise - Street/Sidewalk     73119\n",
       "Water System                65155\n",
       "Noise                       60217\n",
       "Name: complaint_type, dtype: int64"
      ]
     },
     "execution_count": 14,
     "metadata": {},
     "output_type": "execute_result"
    }
   ],
   "source": [
    "df_topTenComplaintTypes = df_cityData['complaint_type'].value_counts().head(10)\n",
    "df_topTenComplaintTypes"
   ]
  },
  {
   "cell_type": "markdown",
   "metadata": {},
   "source": [
    "filter the city data further using the above results"
   ]
  },
  {
   "cell_type": "code",
   "execution_count": 15,
   "metadata": {
    "scrolled": true
   },
   "outputs": [
    {
     "data": {
      "text/plain": [
       "borough        complaint_type         \n",
       "BRONX          Blocked Driveway           24601\n",
       "               HEAT/HOT WATER             68744\n",
       "               Illegal Parking            16139\n",
       "               Noise                       3135\n",
       "               Noise - Residential        57736\n",
       "               Noise - Street/Sidewalk    14032\n",
       "               Street Condition           11774\n",
       "               Street Light Condition     18412\n",
       "               UNSANITARY CONDITION       24600\n",
       "               Water System               10236\n",
       "BROOKLYN       Blocked Driveway           49409\n",
       "               HEAT/HOT WATER             67026\n",
       "               Illegal Parking            55501\n",
       "               Noise                      15426\n",
       "               Noise - Residential        67714\n",
       "               Noise - Street/Sidewalk    21329\n",
       "               Street Condition           25449\n",
       "               Street Light Condition     22497\n",
       "               UNSANITARY CONDITION       26662\n",
       "               Water System               19819\n",
       "MANHATTAN      Blocked Driveway            3433\n",
       "               HEAT/HOT WATER             46552\n",
       "               Illegal Parking            19750\n",
       "               Noise                      29025\n",
       "               Noise - Residential        51119\n",
       "               Noise - Street/Sidewalk    29174\n",
       "               Street Condition           14854\n",
       "               Street Light Condition     11106\n",
       "               UNSANITARY CONDITION       14639\n",
       "               Water System               10926\n",
       "QUEENS         Blocked Driveway           54395\n",
       "               HEAT/HOT WATER             29233\n",
       "               Illegal Parking            46170\n",
       "               Noise                      10698\n",
       "               Noise - Residential        46449\n",
       "               Noise - Street/Sidewalk     7533\n",
       "               Street Condition           30661\n",
       "               Street Light Condition     24276\n",
       "               UNSANITARY CONDITION       11495\n",
       "               Water System               18821\n",
       "STATEN ISLAND  Blocked Driveway            3795\n",
       "               HEAT/HOT WATER              2075\n",
       "               Illegal Parking             8065\n",
       "               Noise                       1930\n",
       "               Noise - Residential         7042\n",
       "               Noise - Street/Sidewalk      867\n",
       "               Street Condition           10590\n",
       "               Street Light Condition      6678\n",
       "               UNSANITARY CONDITION        1953\n",
       "               Water System                5353\n",
       "Name: complaint_type, dtype: int64"
      ]
     },
     "execution_count": 15,
     "metadata": {},
     "output_type": "execute_result"
    }
   ],
   "source": [
    "#filter the records for which the complaint type matches one found in 'df_topTenComplaintTypes'\n",
    "df_TopTenData = df_cityData.loc[df_cityData['complaint_type'].isin(df_topTenComplaintTypes.index)]\n",
    "#filter the records to include only the 'borough' & 'complaint_type' (multiple for each borough), and the number of occurences for each complaint within that borough\n",
    "df_TopTenData[['borough','complaint_type']].groupby(['borough','complaint_type'])['complaint_type'].count()"
   ]
  },
  {
   "cell_type": "markdown",
   "metadata": {},
   "source": [
    "##Consider only the 10 most common overall complaint types.  For the 10 most populous zip codes, how many of each of those 10 types were there in 2017?"
   ]
  },
  {
   "cell_type": "markdown",
   "metadata": {},
   "source": [
    "read in the new dataset and merge the population data with the city data"
   ]
  },
  {
   "cell_type": "code",
   "execution_count": 16,
   "metadata": {},
   "outputs": [],
   "source": [
    "#read in the dataset containing the population data\n",
    "df_populationData = pd.read_csv('PopulationData.csv')"
   ]
  },
  {
   "cell_type": "code",
   "execution_count": 17,
   "metadata": {
    "scrolled": true
   },
   "outputs": [],
   "source": [
    "#merge the two dataframes\n",
    "df_populationData.columns = ['incident_zip','population'] #rename columns to match other df\n",
    "df_populationData['incident_zip'] = df_populationData['incident_zip'].apply(str)#change column type to string to handle 'NaN' in df_zipComplaintType\n",
    "df_zipComplaintType = df_cityData[['incident_zip','complaint_type']] #grab necessary data from df_cityData\n",
    "df_mergedData = pd.merge(df_populationData, df_zipComplaintType, on='incident_zip')"
   ]
  },
  {
   "cell_type": "markdown",
   "metadata": {},
   "source": [
    "apply filtering and grab the necessary data"
   ]
  },
  {
   "cell_type": "code",
   "execution_count": 18,
   "metadata": {},
   "outputs": [
    {
     "name": "stdout",
     "output_type": "stream",
     "text": [
      "                                                     \n",
      "incident_zip population complaint_type               \n",
      "11368        109931     UNSANITARY CONDITION      641\n",
      "                        Street Light Condition    447\n",
      "                        Blocked Driveway         4383\n",
      "                        HEAT/HOT WATER           1620\n",
      "                        Illegal Parking          1252\n",
      "                        Noise                     158\n",
      "                        Noise - Residential      2462\n",
      "                        Street Condition          561\n",
      "                        Noise - Street/Sidewalk   684\n",
      "                        Water System              615\n",
      "11226        101572     Noise - Residential      4856\n",
      "                        Blocked Driveway         2204\n",
      "                        Water System              407\n",
      "                        Illegal Parking          1077\n",
      "                        Noise                     440\n",
      "                        HEAT/HOT WATER           7574\n",
      "                        Noise - Street/Sidewalk  1831\n",
      "                        Street Condition          491\n",
      "                        Street Light Condition    203\n",
      "                        UNSANITARY CONDITION     3155\n",
      "11373        100820     Illegal Parking          1277\n",
      "                        Noise                     270\n",
      "                        Noise - Residential      1844\n",
      "                        Noise - Street/Sidewalk   304\n",
      "                        Street Condition          692\n",
      "                        Street Light Condition    362\n",
      "                        UNSANITARY CONDITION      757\n",
      "                        Water System              371\n",
      "                        HEAT/HOT WATER           3411\n",
      "                        Blocked Driveway         2637\n",
      "11220        99598      Noise - Street/Sidewalk   499\n",
      "                        HEAT/HOT WATER           1635\n",
      "                        Illegal Parking          2013\n",
      "                        Noise                     443\n",
      "                        Noise - Residential      1522\n",
      "                        Water System              675\n",
      "                        UNSANITARY CONDITION      719\n",
      "                        Street Light Condition    610\n",
      "                        Street Condition          694\n",
      "                        Blocked Driveway         1560\n",
      "11385        98592      Noise - Street/Sidewalk   607\n",
      "                        UNSANITARY CONDITION      651\n",
      "                        Water System             1242\n",
      "                        Street Condition         1230\n",
      "                        HEAT/HOT WATER           1527\n",
      "                        Noise - Residential      2610\n",
      "                        Noise                     508\n",
      "                        Illegal Parking          4138\n",
      "                        Street Light Condition    792\n",
      "                        Blocked Driveway         3045\n",
      "10467        97060      Noise - Street/Sidewalk   713\n",
      "                        UNSANITARY CONDITION     2192\n",
      "                        Street Light Condition    407\n",
      "                        Street Condition          612\n",
      "                        Noise - Residential      5813\n",
      "                        Noise                     284\n",
      "                        Illegal Parking           986\n",
      "                        HEAT/HOT WATER           6044\n",
      "                        Blocked Driveway         2068\n",
      "                        Water System              560\n",
      "10025        94600      Noise                    1399\n",
      "                        HEAT/HOT WATER           2398\n",
      "                        Blocked Driveway          125\n",
      "                        Noise - Residential      2089\n",
      "                        Noise - Street/Sidewalk  1225\n",
      "                        Street Condition          630\n",
      "                        Street Light Condition     21\n",
      "                        UNSANITARY CONDITION      714\n",
      "                        Water System              481\n",
      "                        Illegal Parking           737\n",
      "11208        94469      HEAT/HOT WATER           2053\n",
      "                        Blocked Driveway         2757\n",
      "                        UNSANITARY CONDITION     1341\n",
      "                        Street Light Condition    566\n",
      "                        Street Condition          816\n",
      "                        Noise - Street/Sidewalk   825\n",
      "                        Noise - Residential      2796\n",
      "                        Noise                     188\n",
      "                        Illegal Parking          2150\n",
      "                        Water System              712\n",
      "11236        93877      Noise - Residential      1929\n",
      "                        UNSANITARY CONDITION      562\n",
      "                        Illegal Parking          1434\n",
      "                        Street Condition         1020\n",
      "                        Street Light Condition    180\n",
      "                        Water System              624\n",
      "                        HEAT/HOT WATER           1147\n",
      "                        Blocked Driveway         3042\n",
      "                        Noise                     108\n",
      "                        Noise - Street/Sidewalk   201\n",
      "11207        93386      Water System              762\n",
      "                        UNSANITARY CONDITION     1621\n",
      "                        Illegal Parking          1500\n",
      "                        Noise                     199\n",
      "                        HEAT/HOT WATER           2461\n",
      "                        Noise - Residential      3064\n",
      "                        Noise - Street/Sidewalk   558\n",
      "                        Street Condition         1141\n",
      "                        Street Light Condition    939\n",
      "                        Blocked Driveway         2062\n"
     ]
    }
   ],
   "source": [
    "df_overlappingZips = df_mergedData.loc[df_mergedData['incident_zip'].isin(df_cityData['incident_zip'])] #filter for overlapping zip codes\n",
    "df_overlappingZips = df_overlappingZips.loc[df_overlappingZips['complaint_type'].isin(df_topTenComplaintTypes.index)] #filter for top ten complaints\n",
    "df_overlappingZips = df_overlappingZips.groupby(['incident_zip','population','complaint_type'])['complaint_type'].count()\n",
    "df_overlappingZips = df_overlappingZips.to_frame('').sort_values(by='population', ascending=False).head(100) #sort and grab first 100 (10zips x 10complaints = 100rows)\n",
    "print(df_overlappingZips.to_string()) #print ALL data rows "
   ]
  },
  {
   "cell_type": "markdown",
   "metadata": {},
   "source": [
    "##Considering all complaint types. Which boroughs are the biggest \"complainers\" relative to the size of the population in 2017? Meaning, calculate a complaint-index that adjusts for population of the borough."
   ]
  },
  {
   "cell_type": "markdown",
   "metadata": {},
   "source": [
    "grab the total # of complaints for each borough"
   ]
  },
  {
   "cell_type": "code",
   "execution_count": 19,
   "metadata": {
    "scrolled": true
   },
   "outputs": [
    {
     "data": {
      "text/html": [
       "<div>\n",
       "<style scoped>\n",
       "    .dataframe tbody tr th:only-of-type {\n",
       "        vertical-align: middle;\n",
       "    }\n",
       "\n",
       "    .dataframe tbody tr th {\n",
       "        vertical-align: top;\n",
       "    }\n",
       "\n",
       "    .dataframe thead th {\n",
       "        text-align: right;\n",
       "    }\n",
       "</style>\n",
       "<table border=\"1\" class=\"dataframe\">\n",
       "  <thead>\n",
       "    <tr style=\"text-align: right;\">\n",
       "      <th></th>\n",
       "      <th>borough</th>\n",
       "      <th>complaint_count</th>\n",
       "    </tr>\n",
       "  </thead>\n",
       "  <tbody>\n",
       "    <tr>\n",
       "      <th>0</th>\n",
       "      <td>BRONX</td>\n",
       "      <td>451120</td>\n",
       "    </tr>\n",
       "    <tr>\n",
       "      <th>1</th>\n",
       "      <td>BROOKLYN</td>\n",
       "      <td>771157</td>\n",
       "    </tr>\n",
       "    <tr>\n",
       "      <th>2</th>\n",
       "      <td>MANHATTAN</td>\n",
       "      <td>480508</td>\n",
       "    </tr>\n",
       "    <tr>\n",
       "      <th>3</th>\n",
       "      <td>QUEENS</td>\n",
       "      <td>590767</td>\n",
       "    </tr>\n",
       "    <tr>\n",
       "      <th>4</th>\n",
       "      <td>STATEN ISLAND</td>\n",
       "      <td>129512</td>\n",
       "    </tr>\n",
       "  </tbody>\n",
       "</table>\n",
       "</div>"
      ],
      "text/plain": [
       "         borough  complaint_count\n",
       "0          BRONX           451120\n",
       "1       BROOKLYN           771157\n",
       "2      MANHATTAN           480508\n",
       "3         QUEENS           590767\n",
       "4  STATEN ISLAND           129512"
      ]
     },
     "execution_count": 19,
     "metadata": {},
     "output_type": "execute_result"
    }
   ],
   "source": [
    "df_complaintCountPerBorough = df_cityData[['borough','complaint_type']].groupby(['borough'])['complaint_type'].count().reset_index()\n",
    "df_complaintCountPerBorough.rename(columns = {'complaint_type': 'complaint_count'}, inplace=True)\n",
    "df_complaintCountPerBorough"
   ]
  },
  {
   "cell_type": "markdown",
   "metadata": {},
   "source": [
    "grab the total population of each borough"
   ]
  },
  {
   "cell_type": "code",
   "execution_count": 20,
   "metadata": {},
   "outputs": [
    {
     "data": {
      "text/html": [
       "<div>\n",
       "<style scoped>\n",
       "    .dataframe tbody tr th:only-of-type {\n",
       "        vertical-align: middle;\n",
       "    }\n",
       "\n",
       "    .dataframe tbody tr th {\n",
       "        vertical-align: top;\n",
       "    }\n",
       "\n",
       "    .dataframe thead th {\n",
       "        text-align: right;\n",
       "    }\n",
       "</style>\n",
       "<table border=\"1\" class=\"dataframe\">\n",
       "  <thead>\n",
       "    <tr style=\"text-align: right;\">\n",
       "      <th></th>\n",
       "      <th>borough</th>\n",
       "      <th>population</th>\n",
       "    </tr>\n",
       "  </thead>\n",
       "  <tbody>\n",
       "    <tr>\n",
       "      <th>0</th>\n",
       "      <td>BRONX</td>\n",
       "      <td>1592084</td>\n",
       "    </tr>\n",
       "    <tr>\n",
       "      <th>1</th>\n",
       "      <td>BROOKLYN</td>\n",
       "      <td>2732303</td>\n",
       "    </tr>\n",
       "    <tr>\n",
       "      <th>2</th>\n",
       "      <td>MANHATTAN</td>\n",
       "      <td>2073659</td>\n",
       "    </tr>\n",
       "    <tr>\n",
       "      <th>3</th>\n",
       "      <td>QUEENS</td>\n",
       "      <td>2755424</td>\n",
       "    </tr>\n",
       "    <tr>\n",
       "      <th>4</th>\n",
       "      <td>STATEN ISLAND</td>\n",
       "      <td>468730</td>\n",
       "    </tr>\n",
       "  </tbody>\n",
       "</table>\n",
       "</div>"
      ],
      "text/plain": [
       "         borough  population\n",
       "0          BRONX     1592084\n",
       "1       BROOKLYN     2732303\n",
       "2      MANHATTAN     2073659\n",
       "3         QUEENS     2755424\n",
       "4  STATEN ISLAND      468730"
      ]
     },
     "execution_count": 20,
     "metadata": {},
     "output_type": "execute_result"
    }
   ],
   "source": [
    "#Grab necessary data from df_cityData\n",
    "df_zipBorough = df_cityData[['borough','incident_zip']]\n",
    "df_zipBorough = df_zipBorough.replace(['0', 'N/A', 'UNKNOWN', 'NA','.',''], pd.np.nan).dropna().drop_duplicates() #filter out 'bad' rows\n",
    "\n",
    "#Grab necessary data from df_populationData\n",
    "df_zipPop = df_populationData[['incident_zip','population']]\n",
    "\n",
    "#Merge and manipulate data to get the total population value for each borough\n",
    "df_populationOfBoroughs = pd.merge(df_zipBorough, df_zipPop, on='incident_zip')\n",
    "df_populationOfBoroughs = df_populationOfBoroughs.sort_values(by='borough')\n",
    "df_populationOfBoroughs = df_populationOfBoroughs.groupby(['borough'])['population'].sum().reset_index()\n",
    "df_populationOfBoroughs"
   ]
  },
  {
   "cell_type": "markdown",
   "metadata": {},
   "source": [
    "merge the two tables shown above"
   ]
  },
  {
   "cell_type": "code",
   "execution_count": 21,
   "metadata": {},
   "outputs": [
    {
     "data": {
      "text/html": [
       "<div>\n",
       "<style scoped>\n",
       "    .dataframe tbody tr th:only-of-type {\n",
       "        vertical-align: middle;\n",
       "    }\n",
       "\n",
       "    .dataframe tbody tr th {\n",
       "        vertical-align: top;\n",
       "    }\n",
       "\n",
       "    .dataframe thead th {\n",
       "        text-align: right;\n",
       "    }\n",
       "</style>\n",
       "<table border=\"1\" class=\"dataframe\">\n",
       "  <thead>\n",
       "    <tr style=\"text-align: right;\">\n",
       "      <th></th>\n",
       "      <th>borough</th>\n",
       "      <th>complaint_count</th>\n",
       "      <th>population</th>\n",
       "      <th>complaint_index</th>\n",
       "    </tr>\n",
       "  </thead>\n",
       "  <tbody>\n",
       "    <tr>\n",
       "      <th>0</th>\n",
       "      <td>BRONX</td>\n",
       "      <td>451120</td>\n",
       "      <td>1592084</td>\n",
       "      <td>0.283352</td>\n",
       "    </tr>\n",
       "    <tr>\n",
       "      <th>1</th>\n",
       "      <td>BROOKLYN</td>\n",
       "      <td>771157</td>\n",
       "      <td>2732303</td>\n",
       "      <td>0.282237</td>\n",
       "    </tr>\n",
       "    <tr>\n",
       "      <th>4</th>\n",
       "      <td>STATEN ISLAND</td>\n",
       "      <td>129512</td>\n",
       "      <td>468730</td>\n",
       "      <td>0.276304</td>\n",
       "    </tr>\n",
       "    <tr>\n",
       "      <th>2</th>\n",
       "      <td>MANHATTAN</td>\n",
       "      <td>480508</td>\n",
       "      <td>2073659</td>\n",
       "      <td>0.231720</td>\n",
       "    </tr>\n",
       "    <tr>\n",
       "      <th>3</th>\n",
       "      <td>QUEENS</td>\n",
       "      <td>590767</td>\n",
       "      <td>2755424</td>\n",
       "      <td>0.214401</td>\n",
       "    </tr>\n",
       "  </tbody>\n",
       "</table>\n",
       "</div>"
      ],
      "text/plain": [
       "         borough  complaint_count  population  complaint_index\n",
       "0          BRONX           451120     1592084         0.283352\n",
       "1       BROOKLYN           771157     2732303         0.282237\n",
       "4  STATEN ISLAND           129512      468730         0.276304\n",
       "2      MANHATTAN           480508     2073659         0.231720\n",
       "3         QUEENS           590767     2755424         0.214401"
      ]
     },
     "execution_count": 21,
     "metadata": {},
     "output_type": "execute_result"
    }
   ],
   "source": [
    "df_biggestComplainers = pd.merge(df_complaintCountPerBorough, df_populationOfBoroughs, on='borough')\n",
    "#calculate complaint index (complaint_count/population) for each borough\n",
    "df_biggestComplainers['complaint_index'] = df_biggestComplainers['complaint_count']/df_biggestComplainers['population']\n",
    "df_biggestComplainers.sort_values(by='complaint_index', ascending=False) #sort by biggest \"complainers\""
   ]
  },
  {
   "cell_type": "markdown",
   "metadata": {},
   "source": [
    "RESULT: Based on the above data, we can easily see that people from the Bronx are the biggest \"complainers\" with an average of around 1 complaint per 3.5 people. "
   ]
  },
  {
   "cell_type": "code",
   "execution_count": null,
   "metadata": {},
   "outputs": [],
   "source": []
  }
 ],
 "metadata": {
  "kernelspec": {
   "display_name": "Python 3",
   "language": "python",
   "name": "python3"
  },
  "language_info": {
   "codemirror_mode": {
    "name": "ipython",
    "version": 3
   },
   "file_extension": ".py",
   "mimetype": "text/x-python",
   "name": "python",
   "nbconvert_exporter": "python",
   "pygments_lexer": "ipython3",
   "version": "3.6.4"
  }
 },
 "nbformat": 4,
 "nbformat_minor": 2
}
